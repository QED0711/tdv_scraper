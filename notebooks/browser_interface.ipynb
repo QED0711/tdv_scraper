{
 "cells": [
  {
   "cell_type": "code",
   "execution_count": 1,
   "id": "3c03c426",
   "metadata": {},
   "outputs": [],
   "source": [
    "%load_ext autoreload\n",
    "%autoreload 2\n",
    "\n",
    "import sys\n",
    "sys.path.append(\"/app\")\n",
    "\n",
    "import pandas as pd\n",
    "\n",
    "from classes.browser_interface import BrowserInterface"
   ]
  },
  {
   "cell_type": "code",
   "execution_count": 2,
   "id": "62d46bf3",
   "metadata": {},
   "outputs": [],
   "source": [
    "browser = BrowserInterface(\n",
    "    option_args=[\n",
    "        \"no-sandbox\", \n",
    "        \"disable-dev-shm-usage\", \n",
    "        \"remote-debugging-port=9222\", \n",
    "        \"user-data-dir=/app/browser_data\",\n",
    "        \"no-gpu\" \n",
    "    ],\n",
    "    js_snippets=[\"/app/javascript/socketListener.js\"],\n",
    ")\n",
    "\n",
    "browser.open(\"https://www.tradingview.com/chart\")"
   ]
  },
  {
   "cell_type": "code",
   "execution_count": 4,
   "id": "0f320da9",
   "metadata": {},
   "outputs": [
    {
     "data": {
      "text/plain": [
       "{'AUDUSD': <selenium.webdriver.remote.webelement.WebElement (session=\"b670ef59864c660bbf54cac4c3d1aa51\", element=\"F0B28D9CB8DDBF1F3F4A082FF572F1DB_element_65\")>,\n",
       " 'EURUSD': <selenium.webdriver.remote.webelement.WebElement (session=\"b670ef59864c660bbf54cac4c3d1aa51\", element=\"F0B28D9CB8DDBF1F3F4A082FF572F1DB_element_66\")>,\n",
       " 'EURGBP': <selenium.webdriver.remote.webelement.WebElement (session=\"b670ef59864c660bbf54cac4c3d1aa51\", element=\"F0B28D9CB8DDBF1F3F4A082FF572F1DB_element_67\")>,\n",
       " 'GBPUSD': <selenium.webdriver.remote.webelement.WebElement (session=\"b670ef59864c660bbf54cac4c3d1aa51\", element=\"F0B28D9CB8DDBF1F3F4A082FF572F1DB_element_68\")>,\n",
       " 'NZDUSD': <selenium.webdriver.remote.webelement.WebElement (session=\"b670ef59864c660bbf54cac4c3d1aa51\", element=\"F0B28D9CB8DDBF1F3F4A082FF572F1DB_element_69\")>,\n",
       " 'USDJPY': <selenium.webdriver.remote.webelement.WebElement (session=\"b670ef59864c660bbf54cac4c3d1aa51\", element=\"F0B28D9CB8DDBF1F3F4A082FF572F1DB_element_70\")>,\n",
       " 'USDCAD': <selenium.webdriver.remote.webelement.WebElement (session=\"b670ef59864c660bbf54cac4c3d1aa51\", element=\"F0B28D9CB8DDBF1F3F4A082FF572F1DB_element_71\")>}"
      ]
     },
     "execution_count": 4,
     "metadata": {},
     "output_type": "execute_result"
    }
   ],
   "source": [
    "browser.get_symbols()"
   ]
  },
  {
   "cell_type": "code",
   "execution_count": 5,
   "id": "f0d64714",
   "metadata": {},
   "outputs": [],
   "source": [
    "browser.change_symbol(\"AUDUSD\")"
   ]
  },
  {
   "cell_type": "code",
   "execution_count": null,
   "id": "0ccb1ac8",
   "metadata": {},
   "outputs": [],
   "source": []
  },
  {
   "cell_type": "code",
   "execution_count": 6,
   "id": "86192aa5",
   "metadata": {},
   "outputs": [
    {
     "data": {
      "text/plain": [
       "'AUDUSD'"
      ]
     },
     "execution_count": 6,
     "metadata": {},
     "output_type": "execute_result"
    }
   ],
   "source": [
    "browser._get_chart_data()[\"symbol\"]"
   ]
  },
  {
   "cell_type": "code",
   "execution_count": 9,
   "id": "0d36d0b5",
   "metadata": {},
   "outputs": [
    {
     "data": {
      "text/html": [
       "<div>\n",
       "<style scoped>\n",
       "    .dataframe tbody tr th:only-of-type {\n",
       "        vertical-align: middle;\n",
       "    }\n",
       "\n",
       "    .dataframe tbody tr th {\n",
       "        vertical-align: top;\n",
       "    }\n",
       "\n",
       "    .dataframe thead th {\n",
       "        text-align: right;\n",
       "    }\n",
       "</style>\n",
       "<table border=\"1\" class=\"dataframe\">\n",
       "  <thead>\n",
       "    <tr style=\"text-align: right;\">\n",
       "      <th></th>\n",
       "      <th>time</th>\n",
       "      <th>open</th>\n",
       "      <th>high</th>\n",
       "      <th>low</th>\n",
       "      <th>close</th>\n",
       "      <th>volume</th>\n",
       "    </tr>\n",
       "  </thead>\n",
       "  <tbody>\n",
       "    <tr>\n",
       "      <th>0</th>\n",
       "      <td>2023-08-10 13:00:00</td>\n",
       "      <td>0.65854</td>\n",
       "      <td>0.65886</td>\n",
       "      <td>0.656280</td>\n",
       "      <td>0.65842</td>\n",
       "      <td>6822</td>\n",
       "    </tr>\n",
       "    <tr>\n",
       "      <th>1</th>\n",
       "      <td>2023-08-10 14:00:00</td>\n",
       "      <td>0.65842</td>\n",
       "      <td>0.65877</td>\n",
       "      <td>0.655390</td>\n",
       "      <td>0.65591</td>\n",
       "      <td>5628</td>\n",
       "    </tr>\n",
       "    <tr>\n",
       "      <th>2</th>\n",
       "      <td>2023-08-10 15:00:00</td>\n",
       "      <td>0.65591</td>\n",
       "      <td>0.65612</td>\n",
       "      <td>0.655100</td>\n",
       "      <td>0.65564</td>\n",
       "      <td>4186</td>\n",
       "    </tr>\n",
       "    <tr>\n",
       "      <th>3</th>\n",
       "      <td>2023-08-10 16:00:00</td>\n",
       "      <td>0.65564</td>\n",
       "      <td>0.65588</td>\n",
       "      <td>0.654800</td>\n",
       "      <td>0.65506</td>\n",
       "      <td>2819</td>\n",
       "    </tr>\n",
       "    <tr>\n",
       "      <th>4</th>\n",
       "      <td>2023-08-10 17:00:00</td>\n",
       "      <td>0.65506</td>\n",
       "      <td>0.65514</td>\n",
       "      <td>0.652040</td>\n",
       "      <td>0.65224</td>\n",
       "      <td>3563</td>\n",
       "    </tr>\n",
       "    <tr>\n",
       "      <th>...</th>\n",
       "      <td>...</td>\n",
       "      <td>...</td>\n",
       "      <td>...</td>\n",
       "      <td>...</td>\n",
       "      <td>...</td>\n",
       "      <td>...</td>\n",
       "    </tr>\n",
       "    <tr>\n",
       "      <th>295</th>\n",
       "      <td>2023-08-28 20:00:00</td>\n",
       "      <td>0.64280</td>\n",
       "      <td>0.64297</td>\n",
       "      <td>0.642680</td>\n",
       "      <td>0.64296</td>\n",
       "      <td>324</td>\n",
       "    </tr>\n",
       "    <tr>\n",
       "      <th>296</th>\n",
       "      <td>2023-08-28 21:00:00</td>\n",
       "      <td>0.64296</td>\n",
       "      <td>0.64296</td>\n",
       "      <td>0.642360</td>\n",
       "      <td>0.64288</td>\n",
       "      <td>1464</td>\n",
       "    </tr>\n",
       "    <tr>\n",
       "      <th>297</th>\n",
       "      <td>2023-08-28 22:00:00</td>\n",
       "      <td>0.64288</td>\n",
       "      <td>0.64334</td>\n",
       "      <td>0.642780</td>\n",
       "      <td>0.64318</td>\n",
       "      <td>603</td>\n",
       "    </tr>\n",
       "    <tr>\n",
       "      <th>298</th>\n",
       "      <td>2023-08-28 23:00:00</td>\n",
       "      <td>0.64318</td>\n",
       "      <td>0.64336</td>\n",
       "      <td>0.642755</td>\n",
       "      <td>0.64282</td>\n",
       "      <td>860</td>\n",
       "    </tr>\n",
       "    <tr>\n",
       "      <th>299</th>\n",
       "      <td>2023-08-29 00:00:00</td>\n",
       "      <td>0.64282</td>\n",
       "      <td>0.64340</td>\n",
       "      <td>0.642280</td>\n",
       "      <td>0.64257</td>\n",
       "      <td>1744</td>\n",
       "    </tr>\n",
       "  </tbody>\n",
       "</table>\n",
       "<p>300 rows × 6 columns</p>\n",
       "</div>"
      ],
      "text/plain": [
       "                   time     open     high       low    close  volume\n",
       "0   2023-08-10 13:00:00  0.65854  0.65886  0.656280  0.65842    6822\n",
       "1   2023-08-10 14:00:00  0.65842  0.65877  0.655390  0.65591    5628\n",
       "2   2023-08-10 15:00:00  0.65591  0.65612  0.655100  0.65564    4186\n",
       "3   2023-08-10 16:00:00  0.65564  0.65588  0.654800  0.65506    2819\n",
       "4   2023-08-10 17:00:00  0.65506  0.65514  0.652040  0.65224    3563\n",
       "..                  ...      ...      ...       ...      ...     ...\n",
       "295 2023-08-28 20:00:00  0.64280  0.64297  0.642680  0.64296     324\n",
       "296 2023-08-28 21:00:00  0.64296  0.64296  0.642360  0.64288    1464\n",
       "297 2023-08-28 22:00:00  0.64288  0.64334  0.642780  0.64318     603\n",
       "298 2023-08-28 23:00:00  0.64318  0.64336  0.642755  0.64282     860\n",
       "299 2023-08-29 00:00:00  0.64282  0.64340  0.642280  0.64257    1744\n",
       "\n",
       "[300 rows x 6 columns]"
      ]
     },
     "execution_count": 9,
     "metadata": {},
     "output_type": "execute_result"
    }
   ],
   "source": [
    "chart_data = browser._get_chart_data()[\"chart\"]\n",
    "df = pd.DataFrame(chart_data, columns=(\"time\", \"open\", \"high\", \"low\", \"close\", \"volume\"))\n",
    "df.time = pd.to_datetime(df.time, unit=\"s\")\n",
    "\n",
    "df"
   ]
  }
 ],
 "metadata": {
  "kernelspec": {
   "display_name": "Python 3 (ipykernel)",
   "language": "python",
   "name": "python3"
  },
  "language_info": {
   "codemirror_mode": {
    "name": "ipython",
    "version": 3
   },
   "file_extension": ".py",
   "mimetype": "text/x-python",
   "name": "python",
   "nbconvert_exporter": "python",
   "pygments_lexer": "ipython3",
   "version": "3.10.12"
  }
 },
 "nbformat": 4,
 "nbformat_minor": 5
}
