{
 "cells": [
  {
   "cell_type": "code",
   "execution_count": 1,
   "id": "3c03c426",
   "metadata": {},
   "outputs": [],
   "source": [
    "%load_ext autoreload\n",
    "%autoreload 2\n",
    "\n",
    "import sys, pytz\n",
    "sys.path.append(\"/app\")\n",
    "\n",
    "import pandas as pd\n",
    "\n",
    "from classes.browser_interface import BrowserInterface"
   ]
  },
  {
   "cell_type": "code",
   "execution_count": 2,
   "id": "62d46bf3",
   "metadata": {},
   "outputs": [],
   "source": [
    "browser = BrowserInterface(\n",
    "    option_args=[\n",
    "        \"--no-sandbox\", \n",
    "        \"--disable-dev-shm-usage\", \n",
    "        \"--remote-debugging-port=9222\", \n",
    "        \"--user-data-dir=/app/browser_data\",\n",
    "        \"--ignore-certificate-errors\",\n",
    "        \"--allow-insecure-localhost\",\n",
    "        \"--no-gpu\",\n",
    "#         \"headless\"\n",
    "    ],\n",
    "    js_snippets=[\"/app/javascript/socketListener.js\"],\n",
    ")\n",
    "\n",
    "browser.open(\"https://www.tradingview.com/chart\")\n",
    "# browser.open(\"https://google.com\")"
   ]
  },
  {
   "cell_type": "code",
   "execution_count": 12,
   "id": "b630012a",
   "metadata": {},
   "outputs": [],
   "source": [
    "browser.reload()"
   ]
  },
  {
   "cell_type": "code",
   "execution_count": 14,
   "id": "0f320da9",
   "metadata": {},
   "outputs": [
    {
     "data": {
      "text/plain": [
       "{'AUDUSD': <selenium.webdriver.remote.webelement.WebElement (session=\"540957271392616f94fc318a9348bb5e\", element=\"CC799FFABE6813D453538D65E458E214_element_336\")>,\n",
       " 'EURUSD': <selenium.webdriver.remote.webelement.WebElement (session=\"540957271392616f94fc318a9348bb5e\", element=\"CC799FFABE6813D453538D65E458E214_element_337\")>,\n",
       " 'EURGBP': <selenium.webdriver.remote.webelement.WebElement (session=\"540957271392616f94fc318a9348bb5e\", element=\"CC799FFABE6813D453538D65E458E214_element_338\")>,\n",
       " 'GBPUSD': <selenium.webdriver.remote.webelement.WebElement (session=\"540957271392616f94fc318a9348bb5e\", element=\"CC799FFABE6813D453538D65E458E214_element_339\")>,\n",
       " 'NZDUSD': <selenium.webdriver.remote.webelement.WebElement (session=\"540957271392616f94fc318a9348bb5e\", element=\"CC799FFABE6813D453538D65E458E214_element_340\")>,\n",
       " 'USDJPY': <selenium.webdriver.remote.webelement.WebElement (session=\"540957271392616f94fc318a9348bb5e\", element=\"CC799FFABE6813D453538D65E458E214_element_341\")>,\n",
       " 'USDCAD': <selenium.webdriver.remote.webelement.WebElement (session=\"540957271392616f94fc318a9348bb5e\", element=\"CC799FFABE6813D453538D65E458E214_element_342\")>}"
      ]
     },
     "execution_count": 14,
     "metadata": {},
     "output_type": "execute_result"
    }
   ],
   "source": [
    "browser.get_symbols()"
   ]
  },
  {
   "cell_type": "code",
   "execution_count": 15,
   "id": "f0d64714",
   "metadata": {},
   "outputs": [],
   "source": [
    "SYMBOL = \"USDJPY\"\n",
    "browser.change_symbol(SYMBOL)\n",
    "# while True:\n",
    "#     if browser._get_chart_data(\"symbol\") == SYMBOL:\n",
    "#         print(SYMBOL)\n",
    "#         break\n",
    "        "
   ]
  },
  {
   "cell_type": "code",
   "execution_count": 13,
   "id": "0d36d0b5",
   "metadata": {},
   "outputs": [
    {
     "name": "stdout",
     "output_type": "stream",
     "text": [
      "AUDUSD\n"
     ]
    },
    {
     "data": {
      "text/html": [
       "<div>\n",
       "<style scoped>\n",
       "    .dataframe tbody tr th:only-of-type {\n",
       "        vertical-align: middle;\n",
       "    }\n",
       "\n",
       "    .dataframe tbody tr th {\n",
       "        vertical-align: top;\n",
       "    }\n",
       "\n",
       "    .dataframe thead th {\n",
       "        text-align: right;\n",
       "    }\n",
       "</style>\n",
       "<table border=\"1\" class=\"dataframe\">\n",
       "  <thead>\n",
       "    <tr style=\"text-align: right;\">\n",
       "      <th></th>\n",
       "      <th>time</th>\n",
       "      <th>open</th>\n",
       "      <th>high</th>\n",
       "      <th>low</th>\n",
       "      <th>close</th>\n",
       "      <th>volume</th>\n",
       "    </tr>\n",
       "  </thead>\n",
       "  <tbody>\n",
       "    <tr>\n",
       "      <th>0</th>\n",
       "      <td>2023-08-10 18:00:00</td>\n",
       "      <td>0.65168</td>\n",
       "      <td>0.65192</td>\n",
       "      <td>0.651400</td>\n",
       "      <td>0.65170</td>\n",
       "      <td>735</td>\n",
       "    </tr>\n",
       "    <tr>\n",
       "      <th>1</th>\n",
       "      <td>2023-08-10 19:00:00</td>\n",
       "      <td>0.65170</td>\n",
       "      <td>0.65181</td>\n",
       "      <td>0.651180</td>\n",
       "      <td>0.65119</td>\n",
       "      <td>1014</td>\n",
       "    </tr>\n",
       "    <tr>\n",
       "      <th>2</th>\n",
       "      <td>2023-08-10 20:00:00</td>\n",
       "      <td>0.65119</td>\n",
       "      <td>0.65226</td>\n",
       "      <td>0.650980</td>\n",
       "      <td>0.65220</td>\n",
       "      <td>2091</td>\n",
       "    </tr>\n",
       "    <tr>\n",
       "      <th>3</th>\n",
       "      <td>2023-08-10 21:00:00</td>\n",
       "      <td>0.65220</td>\n",
       "      <td>0.65336</td>\n",
       "      <td>0.652200</td>\n",
       "      <td>0.65246</td>\n",
       "      <td>3049</td>\n",
       "    </tr>\n",
       "    <tr>\n",
       "      <th>4</th>\n",
       "      <td>2023-08-10 22:00:00</td>\n",
       "      <td>0.65246</td>\n",
       "      <td>0.65262</td>\n",
       "      <td>0.651590</td>\n",
       "      <td>0.65204</td>\n",
       "      <td>2752</td>\n",
       "    </tr>\n",
       "    <tr>\n",
       "      <th>...</th>\n",
       "      <td>...</td>\n",
       "      <td>...</td>\n",
       "      <td>...</td>\n",
       "      <td>...</td>\n",
       "      <td>...</td>\n",
       "      <td>...</td>\n",
       "    </tr>\n",
       "    <tr>\n",
       "      <th>295</th>\n",
       "      <td>2023-08-29 01:00:00</td>\n",
       "      <td>0.64437</td>\n",
       "      <td>0.64500</td>\n",
       "      <td>0.644120</td>\n",
       "      <td>0.64444</td>\n",
       "      <td>1669</td>\n",
       "    </tr>\n",
       "    <tr>\n",
       "      <th>296</th>\n",
       "      <td>2023-08-29 02:00:00</td>\n",
       "      <td>0.64444</td>\n",
       "      <td>0.64499</td>\n",
       "      <td>0.644230</td>\n",
       "      <td>0.64436</td>\n",
       "      <td>1738</td>\n",
       "    </tr>\n",
       "    <tr>\n",
       "      <th>297</th>\n",
       "      <td>2023-08-29 03:00:00</td>\n",
       "      <td>0.64436</td>\n",
       "      <td>0.64542</td>\n",
       "      <td>0.643595</td>\n",
       "      <td>0.64360</td>\n",
       "      <td>2490</td>\n",
       "    </tr>\n",
       "    <tr>\n",
       "      <th>298</th>\n",
       "      <td>2023-08-29 04:00:00</td>\n",
       "      <td>0.64360</td>\n",
       "      <td>0.64461</td>\n",
       "      <td>0.643480</td>\n",
       "      <td>0.64364</td>\n",
       "      <td>2196</td>\n",
       "    </tr>\n",
       "    <tr>\n",
       "      <th>299</th>\n",
       "      <td>2023-08-29 05:00:00</td>\n",
       "      <td>0.64364</td>\n",
       "      <td>0.64413</td>\n",
       "      <td>0.643560</td>\n",
       "      <td>0.64386</td>\n",
       "      <td>884</td>\n",
       "    </tr>\n",
       "  </tbody>\n",
       "</table>\n",
       "<p>300 rows × 6 columns</p>\n",
       "</div>"
      ],
      "text/plain": [
       "                   time     open     high       low    close  volume\n",
       "0   2023-08-10 18:00:00  0.65168  0.65192  0.651400  0.65170     735\n",
       "1   2023-08-10 19:00:00  0.65170  0.65181  0.651180  0.65119    1014\n",
       "2   2023-08-10 20:00:00  0.65119  0.65226  0.650980  0.65220    2091\n",
       "3   2023-08-10 21:00:00  0.65220  0.65336  0.652200  0.65246    3049\n",
       "4   2023-08-10 22:00:00  0.65246  0.65262  0.651590  0.65204    2752\n",
       "..                  ...      ...      ...       ...      ...     ...\n",
       "295 2023-08-29 01:00:00  0.64437  0.64500  0.644120  0.64444    1669\n",
       "296 2023-08-29 02:00:00  0.64444  0.64499  0.644230  0.64436    1738\n",
       "297 2023-08-29 03:00:00  0.64436  0.64542  0.643595  0.64360    2490\n",
       "298 2023-08-29 04:00:00  0.64360  0.64461  0.643480  0.64364    2196\n",
       "299 2023-08-29 05:00:00  0.64364  0.64413  0.643560  0.64386     884\n",
       "\n",
       "[300 rows x 6 columns]"
      ]
     },
     "execution_count": 13,
     "metadata": {},
     "output_type": "execute_result"
    }
   ],
   "source": [
    "chart_data = browser._get_chart_data()\n",
    "print(chart_data[\"symbol\"])\n",
    "df = pd.DataFrame(chart_data[\"chart\"], columns=(\"time\", \"open\", \"high\", \"low\", \"close\", \"volume\"))\n",
    "df.time = pd.to_datetime(df.time, unit=\"s\", utc=True).dt.tz_convert(\"America/New_York\").dt.tz_localize(None)\n",
    "df"
   ]
  },
  {
   "cell_type": "code",
   "execution_count": 16,
   "id": "19ddd3f6",
   "metadata": {},
   "outputs": [
    {
     "name": "stdout",
     "output_type": "stream",
     "text": [
      "websockets==11.0.3\r\n"
     ]
    }
   ],
   "source": [
    "!pip freeze | grep websockets"
   ]
  }
 ],
 "metadata": {
  "kernelspec": {
   "display_name": "Python 3 (ipykernel)",
   "language": "python",
   "name": "python3"
  },
  "language_info": {
   "codemirror_mode": {
    "name": "ipython",
    "version": 3
   },
   "file_extension": ".py",
   "mimetype": "text/x-python",
   "name": "python",
   "nbconvert_exporter": "python",
   "pygments_lexer": "ipython3",
   "version": "3.10.12"
  }
 },
 "nbformat": 4,
 "nbformat_minor": 5
}
